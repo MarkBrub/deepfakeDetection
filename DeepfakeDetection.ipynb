{
 "cells": [
  {
   "cell_type": "code",
   "execution_count": 1,
   "id": "9e260a62",
   "metadata": {},
   "outputs": [
    {
     "data": {
      "text/html": [
       "<div>\n",
       "<style scoped>\n",
       "    .dataframe tbody tr th:only-of-type {\n",
       "        vertical-align: middle;\n",
       "    }\n",
       "\n",
       "    .dataframe tbody tr th {\n",
       "        vertical-align: top;\n",
       "    }\n",
       "\n",
       "    .dataframe thead th {\n",
       "        text-align: right;\n",
       "    }\n",
       "</style>\n",
       "<table border=\"1\" class=\"dataframe\">\n",
       "  <thead>\n",
       "    <tr style=\"text-align: right;\">\n",
       "      <th></th>\n",
       "      <th>label</th>\n",
       "      <th>original</th>\n",
       "    </tr>\n",
       "  </thead>\n",
       "  <tbody>\n",
       "    <tr>\n",
       "      <th>owxbbpjpch.mp4</th>\n",
       "      <td>FAKE</td>\n",
       "      <td>wynotylpnm.mp4</td>\n",
       "    </tr>\n",
       "    <tr>\n",
       "      <th>vpmyeepbep.mp4</th>\n",
       "      <td>REAL</td>\n",
       "      <td>NaN</td>\n",
       "    </tr>\n",
       "    <tr>\n",
       "      <th>fzvpbrzssi.mp4</th>\n",
       "      <td>REAL</td>\n",
       "      <td>NaN</td>\n",
       "    </tr>\n",
       "    <tr>\n",
       "      <th>htorvhbcae.mp4</th>\n",
       "      <td>FAKE</td>\n",
       "      <td>wclvkepakb.mp4</td>\n",
       "    </tr>\n",
       "    <tr>\n",
       "      <th>fckxaqjbxk.mp4</th>\n",
       "      <td>FAKE</td>\n",
       "      <td>vpmyeepbep.mp4</td>\n",
       "    </tr>\n",
       "  </tbody>\n",
       "</table>\n",
       "</div>"
      ],
      "text/plain": [
       "               label        original\n",
       "owxbbpjpch.mp4  FAKE  wynotylpnm.mp4\n",
       "vpmyeepbep.mp4  REAL             NaN\n",
       "fzvpbrzssi.mp4  REAL             NaN\n",
       "htorvhbcae.mp4  FAKE  wclvkepakb.mp4\n",
       "fckxaqjbxk.mp4  FAKE  vpmyeepbep.mp4"
      ]
     },
     "execution_count": 1,
     "metadata": {},
     "output_type": "execute_result"
    }
   ],
   "source": [
    "import json\n",
    "import os\n",
    "import pandas as pd\n",
    "import numpy as np\n",
    "import cv2\n",
    "\n",
    "# read the metadata.json file\n",
    "with open('metadata.json') as f:\n",
    "    metadata = json.load(f)\n",
    "\n",
    "# create a dataframe with the metadata\n",
    "df = pd.DataFrame(metadata).T\n",
    "\n",
    "# remove the split column\n",
    "df = df.drop(columns=['split'])\n",
    "\n",
    "df.head()"
   ]
  },
  {
   "cell_type": "code",
   "execution_count": 2,
   "id": "d658aeb3",
   "metadata": {},
   "outputs": [
    {
     "name": "stdout",
     "output_type": "stream",
     "text": [
      "Number of real videos:  86\n",
      "Number of fake videos:  1248\n"
     ]
    }
   ],
   "source": [
    "# print the number of real and fake videos\n",
    "print('Number of real videos: ', len(df[df.label == 'REAL']))\n",
    "print('Number of fake videos: ', len(df[df.label == 'FAKE']))"
   ]
  },
  {
   "cell_type": "code",
   "execution_count": 3,
   "id": "082680fa",
   "metadata": {},
   "outputs": [],
   "source": [
    "path = 'data/'\n",
    "\n",
    "# get a list of all video names without extension\n",
    "filenames = [video.split('.')[0] for video in os.listdir(path)]"
   ]
  },
  {
   "cell_type": "code",
   "execution_count": 4,
   "id": "33954692",
   "metadata": {},
   "outputs": [
    {
     "name": "stdout",
     "output_type": "stream",
     "text": [
      "6.14%\r"
     ]
    },
    {
     "ename": "",
     "evalue": "",
     "output_type": "error",
     "traceback": [
      "\u001b[1;31mCanceled future for execute_request message before replies were done"
     ]
    },
    {
     "ename": "",
     "evalue": "",
     "output_type": "error",
     "traceback": [
      "\u001b[1;31mThe Kernel crashed while executing code in the the current cell or a previous cell. Please review the code in the cell(s) to identify a possible cause of the failure. Click <a href='https://aka.ms/vscodeJupyterKernelCrash'>here</a> for more info. View Jupyter <a href='command:jupyter.viewOutput'>log</a> for further details."
     ]
    }
   ],
   "source": [
    "PROCESS_AUDIO = True\n",
    "\n",
    "if PROCESS_AUDIO:\n",
    "    import librosa\n",
    "    import moviepy.editor as mp\n",
    "    from multiprocessing import Pool\n",
    "\n",
    "    def save_audio_file():\n",
    "        for file in filenames:\n",
    "            clip = mp.VideoFileClip(path + file + '.mp4')\n",
    "            clip.audio.write_audiofile(path + file + '.wav', verbose=False, logger=None)\n",
    "\n",
    "            # print the progress as a percentage\n",
    "            print(f'{filenames.index(file) / len(filenames) * 100:.2f}%', end='\\r')\n",
    "\n",
    "        print('Audio files saved')\n",
    "\n",
    "\n",
    "    def save_audio_feature(file):\n",
    "        y, sr = librosa.load(path + file + '.wav')\n",
    "\n",
    "        frame_length = y.shape[0] // 300\n",
    "        \n",
    "        # discard trailing frames\n",
    "        y = y[:(frame_length * 300) - 1]\n",
    "\n",
    "        # this removes about half a frame of audio\n",
    "        # in the model this lost time will be shared between the frames\n",
    "        # this results in the error in each frame being very small\n",
    "\n",
    "        # calculate the mfcc with 32 features\n",
    "        mfcc = librosa.feature.mfcc(y=y, sr=sr, n_mfcc=32, n_fft=frame_length, hop_length=frame_length)\n",
    "\n",
    "        # save the mfcc\n",
    "        np.save(path + file + '.npy', mfcc)\n",
    "\n",
    "    def save_audio_feature_parallel():\n",
    "        with Pool() as p:\n",
    "            p.map(save_audio_feature, filenames)\n",
    "\n",
    "        print('Audio features saved')\n",
    "\n",
    "    save_audio_file()\n",
    "    # save_audio_feature_parallel()\n",
    "\n",
    "# print the shape of a sample audio file\n",
    "# print(np.load(path + filenames[0] + '.npy').shape)"
   ]
  },
  {
   "cell_type": "code",
   "execution_count": 22,
   "id": "1d31af3f",
   "metadata": {},
   "outputs": [
    {
     "name": "stderr",
     "output_type": "stream",
     "text": [
      "/tmp/ipykernel_14534/1728316582.py:18: UserWarning: PySoundFile failed. Trying audioread instead.\n",
      "  audio = librosa.load(file)\n",
      "/home/markbrub/.local/lib/python3.8/site-packages/librosa/core/audio.py:184: FutureWarning: librosa.core.audio.__audioread_load\n",
      "\tDeprecated as of librosa version 0.10.0.\n",
      "\tIt will be removed in librosa version 1.0.\n",
      "  y, sr_native = __audioread_load(path, offset, duration, dtype)\n"
     ]
    },
    {
     "ename": "NoBackendError",
     "evalue": "",
     "output_type": "error",
     "traceback": [
      "\u001b[0;31m---------------------------------------------------------------------------\u001b[0m",
      "\u001b[0;31mLibsndfileError\u001b[0m                           Traceback (most recent call last)",
      "File \u001b[0;32m~/.local/lib/python3.8/site-packages/librosa/core/audio.py:176\u001b[0m, in \u001b[0;36mload\u001b[0;34m(path, sr, mono, offset, duration, dtype, res_type)\u001b[0m\n\u001b[1;32m    175\u001b[0m \u001b[39mtry\u001b[39;00m:\n\u001b[0;32m--> 176\u001b[0m     y, sr_native \u001b[39m=\u001b[39m __soundfile_load(path, offset, duration, dtype)\n\u001b[1;32m    178\u001b[0m \u001b[39mexcept\u001b[39;00m sf\u001b[39m.\u001b[39mSoundFileRuntimeError \u001b[39mas\u001b[39;00m exc:\n\u001b[1;32m    179\u001b[0m     \u001b[39m# If soundfile failed, try audioread instead\u001b[39;00m\n",
      "File \u001b[0;32m~/.local/lib/python3.8/site-packages/librosa/core/audio.py:209\u001b[0m, in \u001b[0;36m__soundfile_load\u001b[0;34m(path, offset, duration, dtype)\u001b[0m\n\u001b[1;32m    207\u001b[0m \u001b[39melse\u001b[39;00m:\n\u001b[1;32m    208\u001b[0m     \u001b[39m# Otherwise, create the soundfile object\u001b[39;00m\n\u001b[0;32m--> 209\u001b[0m     context \u001b[39m=\u001b[39m sf\u001b[39m.\u001b[39;49mSoundFile(path)\n\u001b[1;32m    211\u001b[0m \u001b[39mwith\u001b[39;00m context \u001b[39mas\u001b[39;00m sf_desc:\n",
      "File \u001b[0;32m~/.local/lib/python3.8/site-packages/soundfile.py:658\u001b[0m, in \u001b[0;36mSoundFile.__init__\u001b[0;34m(self, file, mode, samplerate, channels, subtype, endian, format, closefd)\u001b[0m\n\u001b[1;32m    656\u001b[0m \u001b[39mself\u001b[39m\u001b[39m.\u001b[39m_info \u001b[39m=\u001b[39m _create_info_struct(file, mode, samplerate, channels,\n\u001b[1;32m    657\u001b[0m                                  \u001b[39mformat\u001b[39m, subtype, endian)\n\u001b[0;32m--> 658\u001b[0m \u001b[39mself\u001b[39m\u001b[39m.\u001b[39m_file \u001b[39m=\u001b[39m \u001b[39mself\u001b[39;49m\u001b[39m.\u001b[39;49m_open(file, mode_int, closefd)\n\u001b[1;32m    659\u001b[0m \u001b[39mif\u001b[39;00m \u001b[39mset\u001b[39m(mode)\u001b[39m.\u001b[39missuperset(\u001b[39m'\u001b[39m\u001b[39mr+\u001b[39m\u001b[39m'\u001b[39m) \u001b[39mand\u001b[39;00m \u001b[39mself\u001b[39m\u001b[39m.\u001b[39mseekable():\n\u001b[1;32m    660\u001b[0m     \u001b[39m# Move write position to 0 (like in Python file objects)\u001b[39;00m\n",
      "File \u001b[0;32m~/.local/lib/python3.8/site-packages/soundfile.py:1216\u001b[0m, in \u001b[0;36mSoundFile._open\u001b[0;34m(self, file, mode_int, closefd)\u001b[0m\n\u001b[1;32m   1215\u001b[0m     err \u001b[39m=\u001b[39m _snd\u001b[39m.\u001b[39msf_error(file_ptr)\n\u001b[0;32m-> 1216\u001b[0m     \u001b[39mraise\u001b[39;00m LibsndfileError(err, prefix\u001b[39m=\u001b[39m\u001b[39m\"\u001b[39m\u001b[39mError opening \u001b[39m\u001b[39m{0!r}\u001b[39;00m\u001b[39m: \u001b[39m\u001b[39m\"\u001b[39m\u001b[39m.\u001b[39mformat(\u001b[39mself\u001b[39m\u001b[39m.\u001b[39mname))\n\u001b[1;32m   1217\u001b[0m \u001b[39mif\u001b[39;00m mode_int \u001b[39m==\u001b[39m _snd\u001b[39m.\u001b[39mSFM_WRITE:\n\u001b[1;32m   1218\u001b[0m     \u001b[39m# Due to a bug in libsndfile version <= 1.0.25, frames != 0\u001b[39;00m\n\u001b[1;32m   1219\u001b[0m     \u001b[39m# when opening a named pipe in SFM_WRITE mode.\u001b[39;00m\n\u001b[1;32m   1220\u001b[0m     \u001b[39m# See http://github.com/erikd/libsndfile/issues/77.\u001b[39;00m\n",
      "\u001b[0;31mLibsndfileError\u001b[0m: Error opening 'data/qjzzeyijyv.mp4': Format not recognised.",
      "\nDuring handling of the above exception, another exception occurred:\n",
      "\u001b[0;31mNoBackendError\u001b[0m                            Traceback (most recent call last)",
      "\u001b[1;32m/home/markbrub/deepfakeDetection/DeepfakeDetection.ipynb Cell 4\u001b[0m in \u001b[0;36m<cell line: 39>\u001b[0;34m()\u001b[0m\n\u001b[1;32m     <a href='vscode-notebook-cell://wsl%2Bubuntu/home/markbrub/deepfakeDetection/DeepfakeDetection.ipynb#W2sdnNjb2RlLXJlbW90ZQ%3D%3D?line=37'>38</a>\u001b[0m \u001b[39m# preprocess the video and audio for the first video\u001b[39;00m\n\u001b[1;32m     <a href='vscode-notebook-cell://wsl%2Bubuntu/home/markbrub/deepfakeDetection/DeepfakeDetection.ipynb#W2sdnNjb2RlLXJlbW90ZQ%3D%3D?line=38'>39</a>\u001b[0m \u001b[39mfor\u001b[39;00m video \u001b[39min\u001b[39;00m dataset\u001b[39m.\u001b[39mtake(\u001b[39m1\u001b[39m):\n\u001b[0;32m---> <a href='vscode-notebook-cell://wsl%2Bubuntu/home/markbrub/deepfakeDetection/DeepfakeDetection.ipynb#W2sdnNjb2RlLXJlbW90ZQ%3D%3D?line=39'>40</a>\u001b[0m     video, audio \u001b[39m=\u001b[39m preprocess_input(video\u001b[39m.\u001b[39;49mnumpy()\u001b[39m.\u001b[39;49mdecode(\u001b[39m'\u001b[39;49m\u001b[39mutf-8\u001b[39;49m\u001b[39m'\u001b[39;49m))\n\u001b[1;32m     <a href='vscode-notebook-cell://wsl%2Bubuntu/home/markbrub/deepfakeDetection/DeepfakeDetection.ipynb#W2sdnNjb2RlLXJlbW90ZQ%3D%3D?line=41'>42</a>\u001b[0m     \u001b[39mprint\u001b[39m(\u001b[39mf\u001b[39m\u001b[39m'\u001b[39m\u001b[39mVideo shape: \u001b[39m\u001b[39m{\u001b[39;00mvideo\u001b[39m.\u001b[39mshape\u001b[39m}\u001b[39;00m\u001b[39m'\u001b[39m)\n\u001b[1;32m     <a href='vscode-notebook-cell://wsl%2Bubuntu/home/markbrub/deepfakeDetection/DeepfakeDetection.ipynb#W2sdnNjb2RlLXJlbW90ZQ%3D%3D?line=42'>43</a>\u001b[0m     \u001b[39mprint\u001b[39m(\u001b[39mf\u001b[39m\u001b[39m'\u001b[39m\u001b[39mAudio shape: \u001b[39m\u001b[39m{\u001b[39;00maudio\u001b[39m.\u001b[39mshape\u001b[39m}\u001b[39;00m\u001b[39m'\u001b[39m)\n",
      "\u001b[1;32m/home/markbrub/deepfakeDetection/DeepfakeDetection.ipynb Cell 4\u001b[0m in \u001b[0;36mpreprocess_input\u001b[0;34m(file)\u001b[0m\n\u001b[1;32m     <a href='vscode-notebook-cell://wsl%2Bubuntu/home/markbrub/deepfakeDetection/DeepfakeDetection.ipynb#W2sdnNjb2RlLXJlbW90ZQ%3D%3D?line=13'>14</a>\u001b[0m \u001b[39mdef\u001b[39;00m \u001b[39mpreprocess_input\u001b[39m(file):\n\u001b[1;32m     <a href='vscode-notebook-cell://wsl%2Bubuntu/home/markbrub/deepfakeDetection/DeepfakeDetection.ipynb#W2sdnNjb2RlLXJlbW90ZQ%3D%3D?line=14'>15</a>\u001b[0m     \u001b[39m# all videos are 300 frames long\u001b[39;00m\n\u001b[1;32m     <a href='vscode-notebook-cell://wsl%2Bubuntu/home/markbrub/deepfakeDetection/DeepfakeDetection.ipynb#W2sdnNjb2RlLXJlbW90ZQ%3D%3D?line=15'>16</a>\u001b[0m     \u001b[39m# load the video\u001b[39;00m\n\u001b[1;32m     <a href='vscode-notebook-cell://wsl%2Bubuntu/home/markbrub/deepfakeDetection/DeepfakeDetection.ipynb#W2sdnNjb2RlLXJlbW90ZQ%3D%3D?line=16'>17</a>\u001b[0m     video \u001b[39m=\u001b[39m cv2\u001b[39m.\u001b[39mVideoCapture(file)\n\u001b[0;32m---> <a href='vscode-notebook-cell://wsl%2Bubuntu/home/markbrub/deepfakeDetection/DeepfakeDetection.ipynb#W2sdnNjb2RlLXJlbW90ZQ%3D%3D?line=17'>18</a>\u001b[0m     audio \u001b[39m=\u001b[39m librosa\u001b[39m.\u001b[39;49mload(file)\n\u001b[1;32m     <a href='vscode-notebook-cell://wsl%2Bubuntu/home/markbrub/deepfakeDetection/DeepfakeDetection.ipynb#W2sdnNjb2RlLXJlbW90ZQ%3D%3D?line=19'>20</a>\u001b[0m     \u001b[39m# Extract visual frames and audio samples\u001b[39;00m\n\u001b[1;32m     <a href='vscode-notebook-cell://wsl%2Bubuntu/home/markbrub/deepfakeDetection/DeepfakeDetection.ipynb#W2sdnNjb2RlLXJlbW90ZQ%3D%3D?line=20'>21</a>\u001b[0m     visual_frames \u001b[39m=\u001b[39m []\n",
      "File \u001b[0;32m~/.local/lib/python3.8/site-packages/librosa/core/audio.py:184\u001b[0m, in \u001b[0;36mload\u001b[0;34m(path, sr, mono, offset, duration, dtype, res_type)\u001b[0m\n\u001b[1;32m    180\u001b[0m \u001b[39mif\u001b[39;00m \u001b[39misinstance\u001b[39m(path, (\u001b[39mstr\u001b[39m, pathlib\u001b[39m.\u001b[39mPurePath)):\n\u001b[1;32m    181\u001b[0m     warnings\u001b[39m.\u001b[39mwarn(\n\u001b[1;32m    182\u001b[0m         \u001b[39m\"\u001b[39m\u001b[39mPySoundFile failed. Trying audioread instead.\u001b[39m\u001b[39m\"\u001b[39m, stacklevel\u001b[39m=\u001b[39m\u001b[39m2\u001b[39m\n\u001b[1;32m    183\u001b[0m     )\n\u001b[0;32m--> 184\u001b[0m     y, sr_native \u001b[39m=\u001b[39m __audioread_load(path, offset, duration, dtype)\n\u001b[1;32m    185\u001b[0m \u001b[39melse\u001b[39;00m:\n\u001b[1;32m    186\u001b[0m     \u001b[39mraise\u001b[39;00m exc\n",
      "File \u001b[0;32m~/.local/lib/python3.8/site-packages/decorator.py:232\u001b[0m, in \u001b[0;36mdecorate.<locals>.fun\u001b[0;34m(*args, **kw)\u001b[0m\n\u001b[1;32m    230\u001b[0m \u001b[39mif\u001b[39;00m \u001b[39mnot\u001b[39;00m kwsyntax:\n\u001b[1;32m    231\u001b[0m     args, kw \u001b[39m=\u001b[39m fix(args, kw, sig)\n\u001b[0;32m--> 232\u001b[0m \u001b[39mreturn\u001b[39;00m caller(func, \u001b[39m*\u001b[39;49m(extras \u001b[39m+\u001b[39;49m args), \u001b[39m*\u001b[39;49m\u001b[39m*\u001b[39;49mkw)\n",
      "File \u001b[0;32m~/.local/lib/python3.8/site-packages/librosa/util/decorators.py:60\u001b[0m, in \u001b[0;36mdeprecated.<locals>.__wrapper\u001b[0;34m(func, *args, **kwargs)\u001b[0m\n\u001b[1;32m     51\u001b[0m \u001b[39m\"\"\"Warn the user, and then proceed.\"\"\"\u001b[39;00m\n\u001b[1;32m     52\u001b[0m warnings\u001b[39m.\u001b[39mwarn(\n\u001b[1;32m     53\u001b[0m     \u001b[39m\"\u001b[39m\u001b[39m{:s}\u001b[39;00m\u001b[39m.\u001b[39m\u001b[39m{:s}\u001b[39;00m\u001b[39m\\n\u001b[39;00m\u001b[39m\\t\u001b[39;00m\u001b[39mDeprecated as of librosa version \u001b[39m\u001b[39m{:s}\u001b[39;00m\u001b[39m.\u001b[39m\u001b[39m\"\u001b[39m\n\u001b[1;32m     54\u001b[0m     \u001b[39m\"\u001b[39m\u001b[39m\\n\u001b[39;00m\u001b[39m\\t\u001b[39;00m\u001b[39mIt will be removed in librosa version \u001b[39m\u001b[39m{:s}\u001b[39;00m\u001b[39m.\u001b[39m\u001b[39m\"\u001b[39m\u001b[39m.\u001b[39mformat(\n\u001b[0;32m   (...)\u001b[0m\n\u001b[1;32m     58\u001b[0m     stacklevel\u001b[39m=\u001b[39m\u001b[39m3\u001b[39m,  \u001b[39m# Would be 2, but the decorator adds a level\u001b[39;00m\n\u001b[1;32m     59\u001b[0m )\n\u001b[0;32m---> 60\u001b[0m \u001b[39mreturn\u001b[39;00m func(\u001b[39m*\u001b[39;49margs, \u001b[39m*\u001b[39;49m\u001b[39m*\u001b[39;49mkwargs)\n",
      "File \u001b[0;32m~/.local/lib/python3.8/site-packages/librosa/core/audio.py:241\u001b[0m, in \u001b[0;36m__audioread_load\u001b[0;34m(path, offset, duration, dtype)\u001b[0m\n\u001b[1;32m    238\u001b[0m     reader \u001b[39m=\u001b[39m path\n\u001b[1;32m    239\u001b[0m \u001b[39melse\u001b[39;00m:\n\u001b[1;32m    240\u001b[0m     \u001b[39m# If the input was not an audioread object, try to open it\u001b[39;00m\n\u001b[0;32m--> 241\u001b[0m     reader \u001b[39m=\u001b[39m audioread\u001b[39m.\u001b[39;49maudio_open(path)\n\u001b[1;32m    243\u001b[0m \u001b[39mwith\u001b[39;00m reader \u001b[39mas\u001b[39;00m input_file:\n\u001b[1;32m    244\u001b[0m     sr_native \u001b[39m=\u001b[39m input_file\u001b[39m.\u001b[39msamplerate\n",
      "File \u001b[0;32m~/.local/lib/python3.8/site-packages/audioread/__init__.py:132\u001b[0m, in \u001b[0;36maudio_open\u001b[0;34m(path, backends)\u001b[0m\n\u001b[1;32m    129\u001b[0m         \u001b[39mpass\u001b[39;00m\n\u001b[1;32m    131\u001b[0m \u001b[39m# All backends failed!\u001b[39;00m\n\u001b[0;32m--> 132\u001b[0m \u001b[39mraise\u001b[39;00m NoBackendError()\n",
      "\u001b[0;31mNoBackendError\u001b[0m: "
     ]
    }
   ],
   "source": [
    "import tensorflow as tf\n",
    "\n",
    "path = 'data/'\n",
    "\n",
    "# create a tensorflow dataset\n",
    "dataset = tf.data.Dataset.list_files(path + '*.mp4')\n",
    "\n",
    "def preprocess_video(video):\n",
    "    return video\n",
    "\n",
    "def preprocess_audio(audio):\n",
    "    return audio\n",
    "\n",
    "def preprocess_input(file):\n",
    "    # all videos are 300 frames long\n",
    "    # load the video\n",
    "    video = cv2.VideoCapture(file)\n",
    "    audio = librosa.load(file)\n",
    "\n",
    "    # Extract visual frames and audio samples\n",
    "    visual_frames = []\n",
    "    audio_samples = []\n",
    "\n",
    "    # loop through the video and extract the frames\n",
    "    for i in range(300):\n",
    "        ret, frame = video.read()\n",
    "        visual_frames.append(frame)\n",
    "    \n",
    "    # break the audio into 300 samples\n",
    "    audio_samples = librosa.util.frame(audio, frame_length=300, hop_length=300)\n",
    "\n",
    "    return visual_frames, audio_samples\n",
    "\n",
    "\n",
    "\n",
    "        \n",
    "\n",
    "# preprocess the video and audio for the first video\n",
    "for video in dataset.take(1):\n",
    "    video, audio = preprocess_input(video.numpy().decode('utf-8'))\n",
    "\n",
    "    print(f'Video shape: {video.shape}')\n",
    "    print(f'Audio shape: {audio.shape}')"
   ]
  },
  {
   "cell_type": "code",
   "execution_count": null,
   "id": "0b903630",
   "metadata": {},
   "outputs": [],
   "source": [
    "import tensorflow as tf\n",
    "\n",
    "# Create a tuple of text data and image data\n",
    "text_data = [\"This is an example text.\", \"Another text sample.\"]\n",
    "image_data = [image1, image2]  # List of images\n",
    "\n",
    "# Create a dataset from the tuple of data\n",
    "dataset = tf.data.Dataset.from_tensor_slices((text_data, image_data))\n",
    "\n",
    "# Import necessary modules\n",
    "from tensorflow.keras.layers import Input, Conv2D, MaxPooling2D, Flatten, Dense, Concatenate\n",
    "from tensorflow.keras.models import Model\n",
    "\n",
    "# Define the text input shape\n",
    "text_input = Input(shape=(MAX_TEXT_LENGTH,), name='text_input')\n",
    "\n",
    "# Define the image input shape\n",
    "image_input = Input(shape=(IMAGE_HEIGHT, IMAGE_WIDTH, IMAGE_CHANNELS), name='image_input')\n",
    "\n",
    "# Process the text input\n",
    "text_embedding = Embedding(input_dim=VOCABULARY_SIZE, output_dim=EMBEDDING_SIZE)(text_input)\n",
    "text_lstm = LSTM(units=LSTM_UNITS)(text_embedding)\n",
    "text_dense = Dense(units=DENSE_UNITS)(text_lstm)\n",
    "\n",
    "# Process the image input\n",
    "image_conv1 = Conv2D(filters=32, kernel_size=(3, 3), activation='relu')(image_input)\n",
    "image_pool1 = MaxPooling2D(pool_size=(2, 2))(image_conv1)\n",
    "image_conv2 = Conv2D(filters=64, kernel_size=(3, 3), activation='relu')(image_pool1)\n",
    "image_pool2 = MaxPooling2D(pool_size=(2, 2))(image_conv2)\n",
    "image_flatten = Flatten()(image_pool2)\n",
    "image_dense = Dense(units=DENSE_UNITS)(image_flatten)\n",
    "\n",
    "# Combine the text and image representations\n",
    "combined = Concatenate()([text_dense, image_dense])\n",
    "output = Dense(units=NUM_CLASSES, activation='softmax')(combined)\n",
    "\n",
    "# Create the model\n",
    "model = Model(inputs=[text_input, image_input], outputs=output)\n",
    "\n",
    "zipped_dataset = tf.data.Dataset.zip((dataset1, dataset2))\n",
    "\n",
    "def concatenate_strings(string1, string2):\n",
    "    return string1 + string2\n",
    "\n",
    "concatenated_dataset = zipped_dataset.map(lambda x, y: concatenate_strings(x, y))\n"
   ]
  }
 ],
 "metadata": {
  "kernelspec": {
   "display_name": "Python 3 (ipykernel)",
   "language": "python",
   "name": "python3"
  },
  "language_info": {
   "codemirror_mode": {
    "name": "ipython",
    "version": 3
   },
   "file_extension": ".py",
   "mimetype": "text/x-python",
   "name": "python",
   "nbconvert_exporter": "python",
   "pygments_lexer": "ipython3",
   "version": "3.8.10"
  }
 },
 "nbformat": 4,
 "nbformat_minor": 5
}
